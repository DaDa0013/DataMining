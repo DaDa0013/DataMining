{
 "cells": [
  {
   "cell_type": "markdown",
   "metadata": {},
   "source": [
    "# Homework 1. Frequent itemset"
   ]
  },
  {
   "cell_type": "markdown",
   "metadata": {},
   "source": [
    "***Double Click here to edit this cell***\n",
    "\n",
    "- Name: 윤다영\n",
    "- Student ID: 202002265\n",
    "- Submission date: 2022-03-23"
   ]
  },
  {
   "cell_type": "markdown",
   "metadata": {},
   "source": [
    "*Remark. Do not import numpy, pandas, sklearn, or any module implementing the solution directly*"
   ]
  },
  {
   "cell_type": "markdown",
   "metadata": {},
   "source": [
    "## Frequent itemset\n",
    "- ***Support*** is an indication of how frequently the itemset $X$ appears in the dataset $T$.\n",
    "- The support of X with respect to T is defined as the proportion of transactions t in the dataset which contains the itemset X.\n",
    "\n",
    "$$\n",
    "{\\displaystyle \\mathrm {supp} (X)={\\frac {|\\{t\\in T;X\\subseteq t\\}|}{|T|}}} \n",
    "$$\n",
    "\n",
    "- Frequent itemset is an itemset whose support $\\ge$ ***min_sup***."
   ]
  },
  {
   "cell_type": "markdown",
   "metadata": {},
   "source": [
    "## Data set\n",
    "\n",
    "- Each line in the following can be imagined as a market basket, which contains items you buy."
   ]
  },
  {
   "cell_type": "code",
   "execution_count": 1,
   "metadata": {},
   "outputs": [],
   "source": [
    "# DO NOT EDIT THIS CELL\n",
    "data_str = 'apple,beer,rice,chicken\\n'\n",
    "data_str += 'apple,beer,rice\\n'\n",
    "data_str += 'apple,beer\\n'\n",
    "data_str += 'apple,mango\\n'\n",
    "data_str += 'milk,beer,rice,chicken\\n'\n",
    "data_str += 'milk,beer,rice\\n'\n",
    "data_str += 'milk,beer\\n'\n",
    "data_str += 'milk,mango'"
   ]
  },
  {
   "cell_type": "markdown",
   "metadata": {},
   "source": [
    "## Problem 1 (2 pts)\n",
    "\n",
    "- Define a function ***record_gen*** generating a list of items each ***next***.\n",
    "- It must be a generator.\n",
    "- Use ***yield*** instead of ***return***"
   ]
  },
  {
   "cell_type": "code",
   "execution_count": 2,
   "metadata": {
    "hide_input": false
   },
   "outputs": [],
   "source": [
    "# YOUR CODE MUST BE HERE\n",
    "def gen_record(data_str):\n",
    "    tem_str = data_str.split('\\n')\n",
    "    for i in range(len(tem_str)):\n",
    "        yield tem_str[i].split(',')"
   ]
  },
  {
   "cell_type": "code",
   "execution_count": 3,
   "metadata": {},
   "outputs": [
    {
     "name": "stdout",
     "output_type": "stream",
     "text": [
      "['apple', 'beer', 'chicken', 'rice']\n"
     ]
    }
   ],
   "source": [
    "# DO NOT EDIT THIS CELL\n",
    "test = gen_record(data_str)\n",
    "print(sorted(next(test)))"
   ]
  },
  {
   "cell_type": "markdown",
   "metadata": {},
   "source": [
    "**Your output must be:**\n",
    "```\n",
    "['apple', 'beer', 'chicken', 'rice']\n",
    "```"
   ]
  },
  {
   "cell_type": "code",
   "execution_count": 4,
   "metadata": {},
   "outputs": [
    {
     "name": "stdout",
     "output_type": "stream",
     "text": [
      "['apple', 'beer', 'rice']\n"
     ]
    }
   ],
   "source": [
    "# DO NOT EDIT THIS CELL\n",
    "print(sorted(next(test)))"
   ]
  },
  {
   "cell_type": "markdown",
   "metadata": {},
   "source": [
    "**Your output must be:**\n",
    "```\n",
    "['apple', 'beer', 'rice']\n",
    "```"
   ]
  },
  {
   "cell_type": "markdown",
   "metadata": {},
   "source": [
    "## Problem 2 (10 pts)\n",
    "\n",
    "- Define a function ***gen_frequent_1_itemset*** generating 1-itemset.\n",
    "- It must be a generator.\n",
    "- We want to find frequent 1-itemset (itemset containing only 1 item)\n",
    "- Use \"set, reduce, map\" at least once"
   ]
  },
  {
   "cell_type": "code",
   "execution_count": 5,
   "metadata": {},
   "outputs": [],
   "source": [
    "# YOUR CODE MUST BE HERE\n",
    "from functools import reduce\n",
    "def gen_frequent_1_itemset(dataset, proportion):\n",
    "    item = list(set(reduce(lambda x, y:x+y, dataset)))\n",
    "    for i in range(len(item)):\n",
    "        tem_count = list(map(lambda x:1 if item[i] in x else 0, dataset))\n",
    "        if reduce(lambda x, y : x + y, tem_count)/len(dataset) >= proportion:\n",
    "            yield item[i]"
   ]
  },
  {
   "cell_type": "code",
   "execution_count": 6,
   "metadata": {},
   "outputs": [
    {
     "name": "stdout",
     "output_type": "stream",
     "text": [
      "['apple', 'beer', 'milk', 'rice']\n"
     ]
    }
   ],
   "source": [
    "# DO NOT EDIT THIS CELL\n",
    "dataset = list(gen_record(data_str))\n",
    "print(sorted(list(gen_frequent_1_itemset(dataset, 0.5))))"
   ]
  },
  {
   "cell_type": "markdown",
   "metadata": {},
   "source": [
    "**Your output must be (sorted list):**\n",
    "```\n",
    "['apple', 'beer', 'milk', 'rice']\n",
    "```"
   ]
  },
  {
   "cell_type": "code",
   "execution_count": 7,
   "metadata": {},
   "outputs": [
    {
     "name": "stdout",
     "output_type": "stream",
     "text": [
      "['beer']\n"
     ]
    }
   ],
   "source": [
    "# DO NOT EDIT THIS CELL\n",
    "dataset = list(gen_record(data_str))\n",
    "print(sorted(list(gen_frequent_1_itemset(dataset, 0.7))))"
   ]
  },
  {
   "cell_type": "markdown",
   "metadata": {},
   "source": [
    "**Your output must be (sorted list):**\n",
    "```\n",
    "['beer']\n",
    "```"
   ]
  },
  {
   "cell_type": "code",
   "execution_count": 8,
   "metadata": {
    "hide_input": false
   },
   "outputs": [
    {
     "name": "stdout",
     "output_type": "stream",
     "text": [
      "['apple', 'beer', 'chicken', 'mango', 'milk', 'rice']\n"
     ]
    }
   ],
   "source": [
    "# DO NOT EDIT THIS CELL\n",
    "dataset = list(gen_record(data_str))\n",
    "print(sorted(list(gen_frequent_1_itemset(dataset, 0.2))))"
   ]
  },
  {
   "cell_type": "markdown",
   "metadata": {},
   "source": [
    "**Your output must be (sorted list):**\n",
    "```\n",
    "['apple', 'beer', 'chicken', 'mango', 'milk', 'rice']\n",
    "```"
   ]
  },
  {
   "cell_type": "markdown",
   "metadata": {},
   "source": [
    "## Problem 3 (10 pts)\n",
    "\n",
    "- Define a function ***gen_frequent_2_itemset*** generating 2-itemset.\n",
    "- It must be a generator.\n",
    "- We want to find frequent 2-itemset (itemset containing only 2 items)\n",
    "- Use \"set, reduce, map\" at least once"
   ]
  },
  {
   "cell_type": "code",
   "execution_count": 9,
   "metadata": {},
   "outputs": [],
   "source": [
    "# YOUR CODE MUST BE HERE\n",
    "from functools import reduce\n",
    "def gen_frequent_2_itemset(dataset, proportion):\n",
    "    item = list(set(reduce(lambda x, y:x+y, dataset)))\n",
    "    itemset = []\n",
    "    for i in range(len(item)):\n",
    "        for j in range(i+1,len(item)):\n",
    "            itemset.append(tuple(sorted([item[i],item[j]])))\n",
    "    for i in range(len(itemset)):\n",
    "        tem_count = list(map(lambda x:1 if itemset[i][0] in x and itemset[i][1] in x else 0, dataset))\n",
    "        if reduce(lambda x, y : x + y, tem_count)/len(dataset) >= proportion:\n",
    "            yield itemset[i]"
   ]
  },
  {
   "cell_type": "code",
   "execution_count": 10,
   "metadata": {},
   "outputs": [
    {
     "name": "stdout",
     "output_type": "stream",
     "text": [
      "[('beer', 'rice')]\n"
     ]
    }
   ],
   "source": [
    "# DO NOT EDIT THIS CELL\n",
    "dataset = list(gen_record(data_str))\n",
    "print(sorted(list(gen_frequent_2_itemset(dataset, 0.5))))"
   ]
  },
  {
   "cell_type": "markdown",
   "metadata": {},
   "source": [
    "**Your output must be:**\n",
    "```\n",
    "[('beer', 'rice')]\n",
    "```"
   ]
  },
  {
   "cell_type": "code",
   "execution_count": 11,
   "metadata": {},
   "outputs": [
    {
     "name": "stdout",
     "output_type": "stream",
     "text": [
      "[('apple', 'beer'), ('beer', 'milk'), ('beer', 'rice')]\n"
     ]
    }
   ],
   "source": [
    "# DO NOT EDIT THIS CELL\n",
    "dataset = list(gen_record(data_str))\n",
    "print(sorted(list(gen_frequent_2_itemset(dataset, 0.3))))"
   ]
  },
  {
   "cell_type": "markdown",
   "metadata": {},
   "source": [
    "**Your output must be:**\n",
    "```\n",
    "[('apple', 'beer'), ('beer', 'milk'), ('beer', 'rice')]\n",
    "```"
   ]
  },
  {
   "cell_type": "code",
   "execution_count": 12,
   "metadata": {},
   "outputs": [
    {
     "name": "stdout",
     "output_type": "stream",
     "text": [
      "[('apple', 'beer'), ('apple', 'rice'), ('beer', 'chicken'), ('beer', 'milk'), ('beer', 'rice'), ('chicken', 'rice'), ('milk', 'rice')]\n"
     ]
    }
   ],
   "source": [
    "# DO NOT EDIT THIS CELL\n",
    "dataset = list(gen_record(data_str))\n",
    "print(sorted(list(gen_frequent_2_itemset(dataset, 0.2))))"
   ]
  },
  {
   "cell_type": "markdown",
   "metadata": {},
   "source": [
    "**Your output must be:**\n",
    "```\n",
    "[('apple', 'beer'), ('apple', 'rice'), ('beer', 'chicken'), ('beer', 'milk'), ('beer', 'rice'), ('chicken', 'rice'), ('milk', 'rice')]\n",
    "```"
   ]
  },
  {
   "cell_type": "markdown",
   "metadata": {},
   "source": [
    "## Ethics:\n",
    "If you cheat, you will get negative of the total points.\n",
    "If the homework total is 22 and you cheat, you get -22."
   ]
  },
  {
   "cell_type": "markdown",
   "metadata": {},
   "source": [
    "## What to submit\n",
    "\n",
    "- Run **all cells** after restarting the kernel\n",
    "- Goto \"File -> Print Preview\"\n",
    "- Print the page as pdf\n",
    "- Pdf file name must be in a form of: homework_1_홍길동_202000001.pdf\n",
    "- Submit the pdf file in google classroom\n",
    "- No late homeworks will be accepted\n",
    "- Your homework will be graded on the basis of correctness and programming skills"
   ]
  }
 ],
 "metadata": {
  "celltoolbar": "Slideshow",
  "hide_input": false,
  "kernelspec": {
   "display_name": "Python 3",
   "language": "python",
   "name": "python3"
  },
  "language_info": {
   "codemirror_mode": {
    "name": "ipython",
    "version": 3
   },
   "file_extension": ".py",
   "mimetype": "text/x-python",
   "name": "python",
   "nbconvert_exporter": "python",
   "pygments_lexer": "ipython3",
   "version": "3.8.8"
  }
 },
 "nbformat": 4,
 "nbformat_minor": 2
}
